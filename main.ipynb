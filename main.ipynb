{
 "cells": [
  {
   "cell_type": "markdown",
   "source": [
    "Импорт данных"
   ],
   "metadata": {
    "collapsed": false
   }
  },
  {
   "cell_type": "code",
   "execution_count": 46,
   "outputs": [],
   "source": [
    "from corus import load_lenta\n",
    "# from itertools import islice\n",
    "\n",
    "path = 'data/lenta-ru-news.csv.gz'\n",
    "records = load_lenta(path)\n",
    "# Считать первые N строк:\n",
    "data_iterator = (next(records) for x in range(100))  # Данный вариант позволяеть сохранить исходный <class 'generator'>\n",
    "# data = list(islice(records, 0, 100))\n",
    "# Файл не будет читаться полностью в отличие от варианта с file.readlines()."
   ],
   "metadata": {
    "collapsed": false,
    "ExecuteTime": {
     "end_time": "2023-05-12T06:29:35.172325505Z",
     "start_time": "2023-05-12T06:29:35.081552061Z"
    }
   }
  },
  {
   "cell_type": "markdown",
   "source": [
    "Обработка данных"
   ],
   "metadata": {
    "collapsed": false
   }
  },
  {
   "cell_type": "code",
   "execution_count": 47,
   "outputs": [],
   "source": [
    "import re\n",
    "# import nltk\n",
    "from nltk.corpus import stopwords\n",
    "from nltk.stem import SnowballStemmer\n",
    "\n",
    "# nltk.download('stopwords')\n",
    "\n",
    "data_clear_list = []\n",
    "for data in data_iterator:\n",
    "    data_topic_lower = data.topic.lower()\n",
    "    data_title_lower = data.title.lower()\n",
    "    data_topic_punctuation = re.sub(r'[^\\w\\s]', '', data_topic_lower)  # Еще вариант составить список своих стоп слов\n",
    "    data_title_punctuation = re.sub(r'[^\\w\\s]', '', data_title_lower)  # и проводить сравнение с ним\n",
    "    data_title_stop_words = list(\n",
    "        word for word in data_title_punctuation.split() if word not in stopwords.words('russian'))\n",
    "\n",
    "    snowball = SnowballStemmer(language='russian')\n",
    "    data_title_stem = list(map(snowball.stem, data_title_stop_words))\n",
    "\n",
    "    # ...stop_words преобразован из списка в строку. str() не работает.\n",
    "    # Учесть, что \"\".join не преобразует тип int()\n",
    "    data_clear_list.append([data_topic_punctuation, \" \".join(data_title_stop_words)])\n",
    "\n",
    "#print(f'len data_clear list: {len(data_clear_list)}', *data_clear_list[:5], sep='\\n')"
   ],
   "metadata": {
    "collapsed": false,
    "ExecuteTime": {
     "end_time": "2023-05-12T06:29:35.407572266Z",
     "start_time": "2023-05-12T06:29:35.095042241Z"
    }
   }
  },
  {
   "cell_type": "code",
   "execution_count": 48,
   "outputs": [
    {
     "name": "stdout",
     "output_type": "stream",
     "text": [
      "Размерность датасета: (100, 2)\n",
      "Data types:\n",
      "topic    object\n",
      "title    object\n",
      "dtype: object\n",
      "Просмотр среза данных:\n",
      "         topic                                              title\n",
      "0       россия  названы регионы россии самой высокой смертност...\n",
      "1        спорт  австрия представила доказательств вины российс...\n",
      "2  путешествия          обнаружено самое счастливое место планете\n",
      "3          мир  сша раскрыли сумму расходов расследование росс...\n",
      "4          мир  хакеры рассказали планах великобритании замини...\n"
     ]
    }
   ],
   "source": [
    "import pandas\n",
    "\n",
    "df = pandas.DataFrame(data_clear_list, columns=['topic', 'title'])\n",
    "print(f'Размерность датасета: {df.shape}')\n",
    "print(f'Data types:\\n{df.dtypes}')\n",
    "print(f'Просмотр среза данных:', df.head(), sep='\\n')"
   ],
   "metadata": {
    "collapsed": false,
    "ExecuteTime": {
     "end_time": "2023-05-12T06:29:35.410214539Z",
     "start_time": "2023-05-12T06:29:35.407930391Z"
    }
   }
  },
  {
   "cell_type": "code",
   "execution_count": 49,
   "outputs": [
    {
     "name": "stdout",
     "output_type": "stream",
     "text": [
      "       topic                                              title\n",
      "count    100                                                100\n",
      "unique    13                                                100\n",
      "top      мир  названы регионы россии самой высокой смертност...\n",
      "freq      19                                                  1\n"
     ]
    }
   ],
   "source": [
    "# Стастические сводка методом describe\n",
    "print(df.describe())"
   ],
   "metadata": {
    "collapsed": false,
    "ExecuteTime": {
     "end_time": "2023-05-12T06:29:35.487115243Z",
     "start_time": "2023-05-12T06:29:35.408580123Z"
    }
   }
  },
  {
   "cell_type": "code",
   "execution_count": 50,
   "outputs": [
    {
     "name": "stdout",
     "output_type": "stream",
     "text": [
      "topic\n",
      "бывший ссср          11\n",
      "дом                   4\n",
      "из жизни              4\n",
      "интернет и сми        5\n",
      "культура              6\n",
      "мир                  19\n",
      "наука и техника       5\n",
      "путешествия           2\n",
      "россия               13\n",
      "силовые структуры     2\n",
      "спорт                16\n",
      "ценности              2\n",
      "экономика            11\n",
      "dtype: int64\n"
     ]
    }
   ],
   "source": [
    "# Распределение  классов по атрибуту topic\n",
    "print(df.groupby('topic').size())"
   ],
   "metadata": {
    "collapsed": false,
    "ExecuteTime": {
     "end_time": "2023-05-12T06:29:35.564543272Z",
     "start_time": "2023-05-12T06:29:35.469599486Z"
    }
   }
  },
  {
   "cell_type": "markdown",
   "source": [
    "Присвоим метки для topic: Подход №1 - Найти и заменить https://clck.ru/34Nsh4"
   ],
   "metadata": {
    "collapsed": false
   }
  },
  {
   "cell_type": "code",
   "execution_count": 51,
   "outputs": [],
   "source": [
    "# topic_cat = {\"topic\": {\"россия\": 1,  \"мир\": 2, \"спорт\": 3, \"путешествия\": 4}}\n",
    "# df = df.replace(topic_cat)"
   ],
   "metadata": {
    "collapsed": false,
    "ExecuteTime": {
     "end_time": "2023-05-12T06:29:35.668660855Z",
     "start_time": "2023-05-12T06:29:35.562413992Z"
    }
   }
  },
  {
   "cell_type": "markdown",
   "source": [
    "Присвоим метки для topic: Подход № 2 - Кодирование метки https://clck.ru/34Nsh4"
   ],
   "metadata": {
    "collapsed": false
   }
  },
  {
   "cell_type": "code",
   "execution_count": 52,
   "outputs": [],
   "source": [
    "df['topic'] = df['topic'].astype('category')\n",
    "# df['topic_cat'] = df['topic'].cat.codes\n",
    "df.insert(0, 'topic_cat', df['topic'].cat.codes)"
   ],
   "metadata": {
    "collapsed": false,
    "ExecuteTime": {
     "end_time": "2023-05-12T06:29:35.777862559Z",
     "start_time": "2023-05-12T06:29:35.671477539Z"
    }
   }
  },
  {
   "cell_type": "code",
   "execution_count": 53,
   "outputs": [
    {
     "name": "stdout",
     "output_type": "stream",
     "text": [
      "Размерность датасета: (100, 3)\n",
      "Data types:\n",
      "topic_cat        int8\n",
      "topic        category\n",
      "title          object\n",
      "dtype: object\n",
      "Просмотр среза данных:\n",
      "   topic_cat        topic                                              title\n",
      "0          8       россия  названы регионы россии самой высокой смертност...\n",
      "1         10        спорт  австрия представила доказательств вины российс...\n",
      "2          7  путешествия          обнаружено самое счастливое место планете\n",
      "3          5          мир  сша раскрыли сумму расходов расследование росс...\n",
      "4          5          мир  хакеры рассказали планах великобритании замини...\n"
     ]
    }
   ],
   "source": [
    "print(f'Размерность датасета: {df.shape}')\n",
    "print(f'Data types:\\n{df.dtypes}')\n",
    "print(f'Просмотр среза данных:', df.head(), sep='\\n')"
   ],
   "metadata": {
    "collapsed": false,
    "ExecuteTime": {
     "end_time": "2023-05-12T06:29:35.868059998Z",
     "start_time": "2023-05-12T06:29:35.781847982Z"
    }
   }
  },
  {
   "cell_type": "code",
   "execution_count": 54,
   "outputs": [
    {
     "name": "stdout",
     "output_type": "stream",
     "text": [
      "       topic_cat\n",
      "count  100.00000\n",
      "mean     6.26000\n",
      "std      3.78092\n",
      "min      0.00000\n",
      "25%      4.00000\n",
      "50%      6.00000\n",
      "75%     10.00000\n",
      "max     12.00000\n"
     ]
    }
   ],
   "source": [
    "# Стастические сводка методом describe\n",
    "print(df.describe())"
   ],
   "metadata": {
    "collapsed": false,
    "ExecuteTime": {
     "end_time": "2023-05-12T06:29:35.989462583Z",
     "start_time": "2023-05-12T06:29:35.867782670Z"
    }
   }
  },
  {
   "cell_type": "markdown",
   "source": [
    "Формирование обучающей и тестовой выборки"
   ],
   "metadata": {
    "collapsed": false
   }
  },
  {
   "cell_type": "code",
   "execution_count": 55,
   "outputs": [
    {
     "name": "stdout",
     "output_type": "stream",
     "text": [
      "(67,) (67,)\n",
      "(33,) (33,)\n"
     ]
    }
   ],
   "source": [
    "from sklearn.model_selection import train_test_split\n",
    "\n",
    "X_train, X_test, y_train, y_test = train_test_split(df['title'], df['topic_cat'],\n",
    "                                                    train_size=0.67,\n",
    "                                                    random_state=42)\n",
    "\n",
    "print(X_train.shape, y_train.shape)\n",
    "print(X_test.shape, y_test.shape)"
   ],
   "metadata": {
    "collapsed": false,
    "ExecuteTime": {
     "end_time": "2023-05-12T06:29:36.089511659Z",
     "start_time": "2023-05-12T06:29:35.996552869Z"
    }
   }
  },
  {
   "cell_type": "markdown",
   "source": [
    "Векторизация документов: BOW"
   ],
   "metadata": {
    "collapsed": false
   }
  },
  {
   "cell_type": "code",
   "execution_count": 56,
   "outputs": [
    {
     "name": "stdout",
     "output_type": "stream",
     "text": [
      "(67, 365)\n"
     ]
    }
   ],
   "source": [
    "from sklearn.feature_extraction.text import CountVectorizer\n",
    "\n",
    "vectorizer_bow = CountVectorizer()\n",
    "X_train_bow_vector = vectorizer_bow.fit_transform(X_train)\n",
    "X_test_bow_vector = vectorizer_bow.fit_transform(X_test)\n",
    "print(X_train_bow_vector.shape)"
   ],
   "metadata": {
    "collapsed": false,
    "ExecuteTime": {
     "end_time": "2023-05-12T06:29:36.190444732Z",
     "start_time": "2023-05-12T06:29:36.093322270Z"
    }
   }
  },
  {
   "cell_type": "markdown",
   "source": [
    "Выбор модели классификатора и её обучение"
   ],
   "metadata": {
    "collapsed": false
   }
  },
  {
   "cell_type": "code",
   "execution_count": 60,
   "outputs": [
    {
     "data": {
      "text/plain": "SVC(degree=2, kernel='poly')",
      "text/html": "<style>#sk-container-id-1 {color: black;background-color: white;}#sk-container-id-1 pre{padding: 0;}#sk-container-id-1 div.sk-toggleable {background-color: white;}#sk-container-id-1 label.sk-toggleable__label {cursor: pointer;display: block;width: 100%;margin-bottom: 0;padding: 0.3em;box-sizing: border-box;text-align: center;}#sk-container-id-1 label.sk-toggleable__label-arrow:before {content: \"▸\";float: left;margin-right: 0.25em;color: #696969;}#sk-container-id-1 label.sk-toggleable__label-arrow:hover:before {color: black;}#sk-container-id-1 div.sk-estimator:hover label.sk-toggleable__label-arrow:before {color: black;}#sk-container-id-1 div.sk-toggleable__content {max-height: 0;max-width: 0;overflow: hidden;text-align: left;background-color: #f0f8ff;}#sk-container-id-1 div.sk-toggleable__content pre {margin: 0.2em;color: black;border-radius: 0.25em;background-color: #f0f8ff;}#sk-container-id-1 input.sk-toggleable__control:checked~div.sk-toggleable__content {max-height: 200px;max-width: 100%;overflow: auto;}#sk-container-id-1 input.sk-toggleable__control:checked~label.sk-toggleable__label-arrow:before {content: \"▾\";}#sk-container-id-1 div.sk-estimator input.sk-toggleable__control:checked~label.sk-toggleable__label {background-color: #d4ebff;}#sk-container-id-1 div.sk-label input.sk-toggleable__control:checked~label.sk-toggleable__label {background-color: #d4ebff;}#sk-container-id-1 input.sk-hidden--visually {border: 0;clip: rect(1px 1px 1px 1px);clip: rect(1px, 1px, 1px, 1px);height: 1px;margin: -1px;overflow: hidden;padding: 0;position: absolute;width: 1px;}#sk-container-id-1 div.sk-estimator {font-family: monospace;background-color: #f0f8ff;border: 1px dotted black;border-radius: 0.25em;box-sizing: border-box;margin-bottom: 0.5em;}#sk-container-id-1 div.sk-estimator:hover {background-color: #d4ebff;}#sk-container-id-1 div.sk-parallel-item::after {content: \"\";width: 100%;border-bottom: 1px solid gray;flex-grow: 1;}#sk-container-id-1 div.sk-label:hover label.sk-toggleable__label {background-color: #d4ebff;}#sk-container-id-1 div.sk-serial::before {content: \"\";position: absolute;border-left: 1px solid gray;box-sizing: border-box;top: 0;bottom: 0;left: 50%;z-index: 0;}#sk-container-id-1 div.sk-serial {display: flex;flex-direction: column;align-items: center;background-color: white;padding-right: 0.2em;padding-left: 0.2em;position: relative;}#sk-container-id-1 div.sk-item {position: relative;z-index: 1;}#sk-container-id-1 div.sk-parallel {display: flex;align-items: stretch;justify-content: center;background-color: white;position: relative;}#sk-container-id-1 div.sk-item::before, #sk-container-id-1 div.sk-parallel-item::before {content: \"\";position: absolute;border-left: 1px solid gray;box-sizing: border-box;top: 0;bottom: 0;left: 50%;z-index: -1;}#sk-container-id-1 div.sk-parallel-item {display: flex;flex-direction: column;z-index: 1;position: relative;background-color: white;}#sk-container-id-1 div.sk-parallel-item:first-child::after {align-self: flex-end;width: 50%;}#sk-container-id-1 div.sk-parallel-item:last-child::after {align-self: flex-start;width: 50%;}#sk-container-id-1 div.sk-parallel-item:only-child::after {width: 0;}#sk-container-id-1 div.sk-dashed-wrapped {border: 1px dashed gray;margin: 0 0.4em 0.5em 0.4em;box-sizing: border-box;padding-bottom: 0.4em;background-color: white;}#sk-container-id-1 div.sk-label label {font-family: monospace;font-weight: bold;display: inline-block;line-height: 1.2em;}#sk-container-id-1 div.sk-label-container {text-align: center;}#sk-container-id-1 div.sk-container {/* jupyter's `normalize.less` sets `[hidden] { display: none; }` but bootstrap.min.css set `[hidden] { display: none !important; }` so we also need the `!important` here to be able to override the default hidden behavior on the sphinx rendered scikit-learn.org. See: https://github.com/scikit-learn/scikit-learn/issues/21755 */display: inline-block !important;position: relative;}#sk-container-id-1 div.sk-text-repr-fallback {display: none;}</style><div id=\"sk-container-id-1\" class=\"sk-top-container\"><div class=\"sk-text-repr-fallback\"><pre>SVC(degree=2, kernel=&#x27;poly&#x27;)</pre><b>In a Jupyter environment, please rerun this cell to show the HTML representation or trust the notebook. <br />On GitHub, the HTML representation is unable to render, please try loading this page with nbviewer.org.</b></div><div class=\"sk-container\" hidden><div class=\"sk-item\"><div class=\"sk-estimator sk-toggleable\"><input class=\"sk-toggleable__control sk-hidden--visually\" id=\"sk-estimator-id-1\" type=\"checkbox\" checked><label for=\"sk-estimator-id-1\" class=\"sk-toggleable__label sk-toggleable__label-arrow\">SVC</label><div class=\"sk-toggleable__content\"><pre>SVC(degree=2, kernel=&#x27;poly&#x27;)</pre></div></div></div></div></div>"
     },
     "execution_count": 60,
     "metadata": {},
     "output_type": "execute_result"
    }
   ],
   "source": [
    "from sklearn import svm\n",
    "\n",
    "model = svm.SVC(kernel='poly', degree=2)\n",
    "model.fit(X_train_bow_vector, y_train)"
   ],
   "metadata": {
    "collapsed": false,
    "ExecuteTime": {
     "end_time": "2023-05-12T06:31:41.091937069Z",
     "start_time": "2023-05-12T06:31:40.965959915Z"
    }
   }
  },
  {
   "cell_type": "code",
   "execution_count": 62,
   "outputs": [
    {
     "name": "stderr",
     "output_type": "stream",
     "text": [
      "/home/workpc/pyProjects/classifier/venv/lib/python3.10/site-packages/sklearn/model_selection/_split.py:700: UserWarning: The least populated class in y has only 1 members, which is less than n_splits=5.\n",
      "  warnings.warn(\n"
     ]
    },
    {
     "data": {
      "text/plain": "array([0.21428571, 0.21428571, 0.23076923, 0.30769231, 0.15384615])"
     },
     "execution_count": 62,
     "metadata": {},
     "output_type": "execute_result"
    }
   ],
   "source": [
    "from sklearn.model_selection import cross_val_score\n",
    "\n",
    "cross_val_score(model, X_train_bow_vector, y_train, scoring='accuracy')"
   ],
   "metadata": {
    "collapsed": false,
    "ExecuteTime": {
     "end_time": "2023-05-12T06:49:40.020802979Z",
     "start_time": "2023-05-12T06:49:39.881927054Z"
    }
   }
  },
  {
   "cell_type": "code",
   "execution_count": null,
   "outputs": [],
   "source": [],
   "metadata": {
    "collapsed": false
   }
  }
 ],
 "metadata": {
  "kernelspec": {
   "display_name": "Python 3",
   "language": "python",
   "name": "python3"
  },
  "language_info": {
   "codemirror_mode": {
    "name": "ipython",
    "version": 2
   },
   "file_extension": ".py",
   "mimetype": "text/x-python",
   "name": "python",
   "nbconvert_exporter": "python",
   "pygments_lexer": "ipython2",
   "version": "2.7.6"
  }
 },
 "nbformat": 4,
 "nbformat_minor": 0
}
