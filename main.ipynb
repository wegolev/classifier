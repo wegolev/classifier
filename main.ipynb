{
 "cells": [
  {
   "cell_type": "code",
   "execution_count": 17,
   "outputs": [],
   "source": [
    "import re\n",
    "import pandas\n",
    "import matplotlib.pyplot as plt\n",
    "from nltk.corpus import stopwords\n",
    "from corus import load_lenta\n",
    "from nltk.stem import SnowballStemmer\n",
    "from sklearn.model_selection import train_test_split\n",
    "from sklearn.feature_extraction.text import CountVectorizer\n",
    "\n",
    "# from itertools import islice\n",
    "# import nltk\n",
    "# nltk.download('stopwords')"
   ],
   "metadata": {
    "collapsed": false,
    "ExecuteTime": {
     "end_time": "2023-05-12T01:55:46.660162638Z",
     "start_time": "2023-05-12T01:55:46.633832827Z"
    }
   }
  },
  {
   "cell_type": "markdown",
   "source": [
    "Импорт данных"
   ],
   "metadata": {
    "collapsed": false
   }
  },
  {
   "cell_type": "code",
   "execution_count": 29,
   "outputs": [],
   "source": [
    "path = 'data/lenta-ru-news.csv.gz'\n",
    "records = load_lenta(path)\n",
    "# Считать первые N строк:\n",
    "data_iterator = (next(records) for x in range(5))  # Данный вариант позволяеть сохранить исходный <class 'generator'>\n",
    "# data = list(islice(records, 0, 100))\n",
    "# Файл не будет читаться полностью в отличие от варианта с file.readlines()."
   ],
   "metadata": {
    "collapsed": false,
    "ExecuteTime": {
     "end_time": "2023-05-12T01:58:08.325833722Z",
     "start_time": "2023-05-12T01:58:08.265021101Z"
    }
   }
  },
  {
   "cell_type": "markdown",
   "source": [
    "Обработка данных"
   ],
   "metadata": {
    "collapsed": false
   }
  },
  {
   "cell_type": "code",
   "execution_count": 31,
   "outputs": [
    {
     "name": "stdout",
     "output_type": "stream",
     "text": [
      "len data_clear list: 0\n"
     ]
    }
   ],
   "source": [
    "data_clear_list = []\n",
    "for data in data_iterator:\n",
    "    data_topic_lower = data.topic.lower()\n",
    "    data_title_lower = data.title.lower()\n",
    "    data_topic_punctuation = re.sub(r'[^\\w\\s]', '', data_topic_lower)  # Еще вариант составить список своих стоп слов\n",
    "    data_title_punctuation = re.sub(r'[^\\w\\s]', '', data_title_lower)  # и проводить сравнение с ним\n",
    "    data_title_stop_words = list(\n",
    "        word for word in data_title_punctuation.split() if word not in stopwords.words('russian'))\n",
    "\n",
    "    snowball = SnowballStemmer(language='russian')\n",
    "    data_title_stem = list(map(snowball.stem, data_title_stop_words))\n",
    "\n",
    "    # ...stop_words преобразован из списка в строку. str() не работает.\n",
    "    # Учесть, что \"\".join не преобразует тип int()\n",
    "    data_clear_list.append([data_topic_punctuation, \" \".join(data_title_stop_words)])\n",
    "\n",
    "print(f'len data_clear list: {len(data_clear_list)}', *data_clear_list[:5], sep='\\n')"
   ],
   "metadata": {
    "collapsed": false,
    "ExecuteTime": {
     "end_time": "2023-05-12T01:58:26.437429370Z",
     "start_time": "2023-05-12T01:58:26.374454529Z"
    }
   }
  },
  {
   "cell_type": "code",
   "execution_count": 20,
   "outputs": [],
   "source": [
    "df = pandas.DataFrame(data_clear_list, columns=['topic', 'title'])\n",
    "# print(df.dtypes, df.head(), df['topic'].value_counts(), sep='\\n\\n')"
   ],
   "metadata": {
    "collapsed": false,
    "ExecuteTime": {
     "end_time": "2023-05-12T01:56:10.925321709Z",
     "start_time": "2023-05-12T01:56:10.902280095Z"
    }
   }
  },
  {
   "cell_type": "markdown",
   "source": [
    "Присвоим метки для topic: Подход №1 - Найти и заменить https://clck.ru/34Nsh4"
   ],
   "metadata": {
    "collapsed": false
   }
  },
  {
   "cell_type": "code",
   "execution_count": 5,
   "outputs": [],
   "source": [
    "# topic_cat = {\"topic\": {\"россия\": 1,  \"мир\": 2, \"спорт\": 3, \"путешествия\": 4}}\n",
    "# df = df.replace(topic_cat)\n",
    "# print(topic_cat, df.dtypes, df.head(), sep='\\n\\n')"
   ],
   "metadata": {
    "collapsed": false,
    "ExecuteTime": {
     "end_time": "2023-05-12T01:28:05.527333930Z",
     "start_time": "2023-05-12T01:28:05.433371678Z"
    }
   }
  },
  {
   "cell_type": "markdown",
   "source": [
    "Присвоим метки для topic: Подход № 2 - Кодирование метки https://clck.ru/34Nsh4"
   ],
   "metadata": {
    "collapsed": false
   }
  },
  {
   "cell_type": "code",
   "execution_count": 21,
   "outputs": [],
   "source": [
    "df['topic'] = df['topic'].astype('category')\n",
    "# df['topic_cat'] = df['topic'].cat.codes\n",
    "df.insert(0, 'topic_cat', df['topic'].cat.codes)\n",
    "# print(df.dtypes, df.head(), sep='\\n\\n')"
   ],
   "metadata": {
    "collapsed": false,
    "ExecuteTime": {
     "end_time": "2023-05-12T01:56:17.234905422Z",
     "start_time": "2023-05-12T01:56:17.146335809Z"
    }
   }
  },
  {
   "cell_type": "markdown",
   "source": [
    "Формирование обучающей и тестовой выборки"
   ],
   "metadata": {
    "collapsed": false
   }
  },
  {
   "cell_type": "code",
   "execution_count": 32,
   "outputs": [
    {
     "name": "stdout",
     "output_type": "stream",
     "text": [
      "len X_train: 3\n",
      "обнаруж сам счастлив мест планет\n",
      "назва регион росс сам высок смертност рак\n",
      "сша раскр сумм расход расследован российск дел\n",
      "len X_test: 2\n",
      "австр представ доказательств вин российск биатлонист\n",
      "хакер рассказа план великобритан заминирова севастопол\n",
      "len y_train: 3\n",
      "1\n",
      "2\n",
      "0\n",
      "len y_test: 2\n",
      "3\n",
      "0\n"
     ]
    }
   ],
   "source": [
    "X_train, X_test, y_train, y_test = train_test_split(df['title'], df['topic_cat'],\n",
    "                                                    train_size=0.67,\n",
    "                                                    random_state=42)\n",
    "\n",
    "print(f'len X_train: {len(X_train)}', *X_train[:5], sep='\\n')\n",
    "print(f'len X_test: {len(X_test)}', *X_test[:5], sep='\\n')\n",
    "print(f'len y_train: {len(y_train)}', *y_train[:5], sep='\\n')\n",
    "print(f'len y_test: {len(y_test)}', *y_test[:5], sep='\\n')"
   ],
   "metadata": {
    "collapsed": false,
    "ExecuteTime": {
     "end_time": "2023-05-12T01:58:30.432710769Z",
     "start_time": "2023-05-12T01:58:30.396442914Z"
    }
   }
  },
  {
   "cell_type": "markdown",
   "source": [
    "Векторизация документов: BOW"
   ],
   "metadata": {
    "collapsed": false
   }
  },
  {
   "cell_type": "code",
   "execution_count": 23,
   "outputs": [
    {
     "name": "stdout",
     "output_type": "stream",
     "text": [
      "  (0, 4)\t1\n",
      "  (0, 13)\t1\n",
      "  (0, 16)\t1\n",
      "  (0, 2)\t1\n",
      "  (0, 5)\t1\n",
      "  (1, 13)\t1\n",
      "  (1, 3)\t1\n",
      "  (1, 10)\t1\n",
      "  (1, 11)\t1\n",
      "  (1, 0)\t1\n",
      "  (1, 14)\t1\n",
      "  (1, 6)\t1\n",
      "  (2, 17)\t1\n",
      "  (2, 7)\t1\n",
      "  (2, 15)\t1\n",
      "  (2, 9)\t1\n",
      "  (2, 8)\t1\n",
      "  (2, 12)\t1\n",
      "  (2, 1)\t1\n"
     ]
    }
   ],
   "source": [
    "vectorizer_bow = CountVectorizer()\n",
    "X_train_bow_vector = vectorizer_bow.fit_transform(X_train)\n",
    "print(X_train_bow_vector)"
   ],
   "metadata": {
    "collapsed": false,
    "ExecuteTime": {
     "end_time": "2023-05-12T01:56:41.928054296Z",
     "start_time": "2023-05-12T01:56:41.874287242Z"
    }
   }
  },
  {
   "cell_type": "markdown",
   "source": [
    "Выбор модели классификатора и её обучение"
   ],
   "metadata": {
    "collapsed": false
   }
  },
  {
   "cell_type": "code",
   "execution_count": 33,
   "outputs": [
    {
     "ename": "NameError",
     "evalue": "name 'plt' is not defined",
     "output_type": "error",
     "traceback": [
      "\u001B[0;31m---------------------------------------------------------------------------\u001B[0m",
      "\u001B[0;31mNameError\u001B[0m                                 Traceback (most recent call last)",
      "Cell \u001B[0;32mIn[33], line 2\u001B[0m\n\u001B[1;32m      1\u001B[0m \u001B[38;5;66;03m# Построение графика для обучающего набора\u001B[39;00m\n\u001B[0;32m----> 2\u001B[0m fig, ax \u001B[38;5;241m=\u001B[39m \u001B[43mplt\u001B[49m\u001B[38;5;241m.\u001B[39msubplots(figsize\u001B[38;5;241m=\u001B[39m(\u001B[38;5;241m12\u001B[39m, \u001B[38;5;241m7\u001B[39m))\n\u001B[1;32m      3\u001B[0m \u001B[38;5;66;03m# Удаление верхней и правой границ\u001B[39;00m\n\u001B[1;32m      4\u001B[0m ax\u001B[38;5;241m.\u001B[39mspines[\u001B[38;5;124m'\u001B[39m\u001B[38;5;124mtop\u001B[39m\u001B[38;5;124m'\u001B[39m]\u001B[38;5;241m.\u001B[39mset_visible(\u001B[38;5;28;01mFalse\u001B[39;00m)\n",
      "\u001B[0;31mNameError\u001B[0m: name 'plt' is not defined"
     ]
    }
   ],
   "source": [
    "# Построение графика для обучающего набора\n",
    "fig, ax = plt.subplots(figsize=(12, 7))\n",
    "# Удаление верхней и правой границ\n",
    "ax.spines['top'].set_visible(False)\n",
    "ax.spines['left'].set_visible(False)\n",
    "ax.spines['right'].set_visible(False)\n",
    "# Добавление основных линий сетки\n",
    "ax.grid(color='grey', linestyle='-', linewidth=0.25, alpha=0.5)\n",
    "ax.scatter(features[:-test_size]['x'], features[:-test_size]['y'], color=\"#8C7298\")\n",
    "plt.show()"
   ],
   "metadata": {
    "collapsed": false,
    "ExecuteTime": {
     "end_time": "2023-05-12T02:51:22.109153227Z",
     "start_time": "2023-05-12T02:51:20.679746375Z"
    }
   }
  },
  {
   "cell_type": "code",
   "execution_count": null,
   "outputs": [],
   "source": [
    "from sklearn import svm\n",
    "model = svm.SVC(kernel='poly', degree=2)\n",
    "model.fit(x_train, y_train)"
   ],
   "metadata": {
    "collapsed": false
   }
  }
 ],
 "metadata": {
  "kernelspec": {
   "display_name": "Python 3",
   "language": "python",
   "name": "python3"
  },
  "language_info": {
   "codemirror_mode": {
    "name": "ipython",
    "version": 2
   },
   "file_extension": ".py",
   "mimetype": "text/x-python",
   "name": "python",
   "nbconvert_exporter": "python",
   "pygments_lexer": "ipython2",
   "version": "2.7.6"
  }
 },
 "nbformat": 4,
 "nbformat_minor": 0
}
