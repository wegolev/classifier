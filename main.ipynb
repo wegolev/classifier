{
 "cells": [
  {
   "cell_type": "code",
   "execution_count": 1,
   "outputs": [],
   "source": [
    "import re\n",
    "import pandas\n",
    "from nltk.corpus import stopwords\n",
    "from corus import load_lenta\n",
    "from nltk.stem import SnowballStemmer\n",
    "from sklearn.model_selection import train_test_split\n",
    "from sklearn.feature_extraction.text import CountVectorizer\n",
    "\n",
    "# from itertools import islice\n",
    "# import nltk\n",
    "# nltk.download('stopwords')"
   ],
   "metadata": {
    "collapsed": false,
    "ExecuteTime": {
     "end_time": "2023-05-11T03:44:29.407687683Z",
     "start_time": "2023-05-11T03:44:26.626046627Z"
    }
   }
  },
  {
   "cell_type": "markdown",
   "source": [
    "Импорт данных"
   ],
   "metadata": {
    "collapsed": false
   }
  },
  {
   "cell_type": "code",
   "execution_count": 3,
   "outputs": [],
   "source": [
    "path = 'data/lenta-ru-news.csv.gz'\n",
    "records = load_lenta(path)\n",
    "# Считать первые N строк:\n",
    "data_iterator = (next(records) for x in range(5))  # Данный вариант позволяеть сохранить исходный <class 'generator'>\n",
    "# data = list(islice(records, 0, 100))\n",
    "# Файл не будет читаться полностью в отличие от варианта с file.readlines()."
   ],
   "metadata": {
    "collapsed": false,
    "ExecuteTime": {
     "end_time": "2023-05-11T03:48:32.162916278Z",
     "start_time": "2023-05-11T03:48:32.139726493Z"
    }
   }
  },
  {
   "cell_type": "markdown",
   "source": [
    "Обработка данных"
   ],
   "metadata": {
    "collapsed": false
   }
  },
  {
   "cell_type": "code",
   "execution_count": 4,
   "outputs": [],
   "source": [
    "data_clear_list = []\n",
    "for data in data_iterator:\n",
    "    data_topic_lower = data.topic.lower()\n",
    "    data_title_lower = data.title.lower()\n",
    "    data_topic_punctuation = re.sub(r'[^\\w\\s]', '', data_topic_lower)  # Еще вариант составить список своих стоп слов\n",
    "    data_title_punctuation = re.sub(r'[^\\w\\s]', '', data_title_lower)  # и проводить сравнение с ним\n",
    "    data_title_stop_words = list(\n",
    "        word for word in data_title_punctuation.split() if word not in stopwords.words('russian'))\n",
    "\n",
    "    snowball = SnowballStemmer(language='russian')\n",
    "    data_title_stem = list(map(snowball.stem, data_title_stop_words))\n",
    "\n",
    "    # ...stop_words преобразован из списка в строку. str() не работает.\n",
    "    # Учесть, что \"\".join не преобразует тип int()\n",
    "    data_clear_list.append([data_topic_punctuation, \" \".join(data_title_stop_words)])\n",
    "\n",
    "# print(f'len data_clear list: {len(data_clear_list)}', *data_clear_list[:5], sep='\\n')"
   ],
   "metadata": {
    "collapsed": false,
    "ExecuteTime": {
     "end_time": "2023-05-11T03:49:41.098290064Z",
     "start_time": "2023-05-11T03:49:40.993525380Z"
    }
   }
  },
  {
   "cell_type": "code",
   "execution_count": 7,
   "outputs": [],
   "source": [
    "df = pandas.DataFrame(data_clear_list, columns=['topic', 'title'])\n",
    "# print(df.dtypes, df.head(), df['topic'].value_counts(), sep='\\n\\n')"
   ],
   "metadata": {
    "collapsed": false,
    "ExecuteTime": {
     "end_time": "2023-05-11T03:50:48.001630258Z",
     "start_time": "2023-05-11T03:50:47.968913456Z"
    }
   }
  },
  {
   "cell_type": "markdown",
   "source": [
    "Присвоим метки для topic: Подход №1 - Найти и заменить https://clck.ru/34Nsh4"
   ],
   "metadata": {
    "collapsed": false
   }
  },
  {
   "cell_type": "code",
   "execution_count": null,
   "outputs": [],
   "source": [
    "# topic_cat = {\"topic\": {\"россия\": 1,  \"мир\": 2, \"спорт\": 3, \"путешествия\": 4}}\n",
    "# df = df.replace(topic_cat)\n",
    "# print(topic_cat, df.dtypes, df.head(), sep='\\n\\n')"
   ],
   "metadata": {
    "collapsed": false
   }
  },
  {
   "cell_type": "markdown",
   "source": [
    "Присвоим метки для topic: Подход № 2 - Кодирование метки https://clck.ru/34Nsh4"
   ],
   "metadata": {
    "collapsed": false
   }
  },
  {
   "cell_type": "code",
   "execution_count": 9,
   "outputs": [],
   "source": [
    "df['topic'] = df['topic'].astype('category')\n",
    "# df['topic_cat'] = df['topic'].cat.codes\n",
    "df.insert(0, 'topic_cat', df['topic'].cat.codes)\n",
    "# print(df.dtypes, df.head(), sep='\\n\\n')"
   ],
   "metadata": {
    "collapsed": false,
    "ExecuteTime": {
     "end_time": "2023-05-11T03:53:13.018007082Z",
     "start_time": "2023-05-11T03:53:12.905462479Z"
    }
   }
  },
  {
   "cell_type": "markdown",
   "source": [
    "Формирование обучающей и тестовой выборки"
   ],
   "metadata": {
    "collapsed": false
   }
  },
  {
   "cell_type": "code",
   "execution_count": 10,
   "outputs": [
    {
     "name": "stdout",
     "output_type": "stream",
     "text": [
      "len X_train: 3\n",
      "обнаружено самое счастливое место планете\n",
      "названы регионы россии самой высокой смертностью рака\n",
      "сша раскрыли сумму расходов расследование российского дела\n",
      "len X_test: 2\n",
      "австрия представила доказательств вины российских биатлонистов\n",
      "хакеры рассказали планах великобритании заминировать севастополь\n",
      "len y_train: 3\n",
      "1\n",
      "2\n",
      "0\n",
      "len y_test: 2\n",
      "3\n",
      "0\n"
     ]
    }
   ],
   "source": [
    "X_train, X_test, y_train, y_test = train_test_split(df['title'], df['topic_cat'],\n",
    "                                                    train_size=0.67,\n",
    "                                                    random_state=42)\n",
    "\n",
    "print(f'len X_train: {len(X_train)}', *X_train[:5], sep='\\n')\n",
    "print(f'len X_test: {len(X_test)}', *X_test[:5], sep='\\n')\n",
    "print(f'len y_train: {len(y_train)}', *y_train[:5], sep='\\n')\n",
    "print(f'len y_test: {len(y_test)}', *y_test[:5], sep='\\n')"
   ],
   "metadata": {
    "collapsed": false,
    "ExecuteTime": {
     "end_time": "2023-05-11T03:53:41.460280179Z",
     "start_time": "2023-05-11T03:53:41.360056224Z"
    }
   }
  },
  {
   "cell_type": "markdown",
   "source": [
    "Векторизация документов: BOW"
   ],
   "metadata": {
    "collapsed": false
   }
  },
  {
   "cell_type": "code",
   "execution_count": 11,
   "outputs": [
    {
     "name": "stdout",
     "output_type": "stream",
     "text": [
      "  (0, 4)\t1\n",
      "  (0, 13)\t1\n",
      "  (0, 17)\t1\n",
      "  (0, 2)\t1\n",
      "  (0, 5)\t1\n",
      "  (1, 3)\t1\n",
      "  (1, 10)\t1\n",
      "  (1, 11)\t1\n",
      "  (1, 14)\t1\n",
      "  (1, 0)\t1\n",
      "  (1, 15)\t1\n",
      "  (1, 6)\t1\n",
      "  (2, 18)\t1\n",
      "  (2, 7)\t1\n",
      "  (2, 16)\t1\n",
      "  (2, 9)\t1\n",
      "  (2, 8)\t1\n",
      "  (2, 12)\t1\n",
      "  (2, 1)\t1\n"
     ]
    }
   ],
   "source": [
    "vectorizer_bow = CountVectorizer()\n",
    "X_train_bow_vector = vectorizer_bow.fit_transform(X_train)\n",
    "print(X_train_bow_vector)"
   ],
   "metadata": {
    "collapsed": false,
    "ExecuteTime": {
     "end_time": "2023-05-11T03:54:33.944099669Z",
     "start_time": "2023-05-11T03:54:33.827028680Z"
    }
   }
  },
  {
   "cell_type": "code",
   "execution_count": null,
   "outputs": [],
   "source": [],
   "metadata": {
    "collapsed": false
   }
  }
 ],
 "metadata": {
  "kernelspec": {
   "display_name": "Python 3",
   "language": "python",
   "name": "python3"
  },
  "language_info": {
   "codemirror_mode": {
    "name": "ipython",
    "version": 2
   },
   "file_extension": ".py",
   "mimetype": "text/x-python",
   "name": "python",
   "nbconvert_exporter": "python",
   "pygments_lexer": "ipython2",
   "version": "2.7.6"
  }
 },
 "nbformat": 4,
 "nbformat_minor": 0
}
